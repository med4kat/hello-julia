{
 "cells": [
  {
   "cell_type": "markdown",
   "metadata": {},
   "source": [
    "# Data Stuctures\n",
    "Julia gives you familiar, flexible containers for storing and manipulating data. Let’s look at a few basics."
   ]
  },
  {
   "cell_type": "markdown",
   "metadata": {},
   "source": [
    "## Arrays (Vectors)\n",
    "Arrays are ordered, mutable lists of values accessed by index. Arrays are like lists in Python. Use square brackets to create them:"
   ]
  },
  {
   "cell_type": "code",
   "execution_count": 1,
   "metadata": {},
   "outputs": [
    {
     "name": "stdout",
     "output_type": "stream",
     "text": [
      "[90, 95, 100, 105, 110]\n"
     ]
    }
   ],
   "source": [
    "strikes = [90, 95, 100, 105, 110]\n",
    "println(strikes)"
   ]
  },
  {
   "cell_type": "markdown",
   "metadata": {},
   "source": [
    "Arrays start at 1, not 0:"
   ]
  },
  {
   "cell_type": "code",
   "execution_count": 2,
   "metadata": {},
   "outputs": [
    {
     "name": "stdout",
     "output_type": "stream",
     "text": [
      "90\n",
      "110"
     ]
    }
   ],
   "source": [
    "println(strikes[1])\n",
    "print(strikes[5])"
   ]
  },
  {
   "cell_type": "markdown",
   "metadata": {},
   "source": [
    "## Tuples\n",
    "Tuples are fixed-size, ordered collections that can be either unnamed or named. Named tuples work like lightweight records. Here is labeled tuple ( great for representing an option):"
   ]
  },
  {
   "cell_type": "code",
   "execution_count": 3,
   "metadata": {},
   "outputs": [
    {
     "name": "stdout",
     "output_type": "stream",
     "text": [
      "Here is you tuple: (type = \"call\", strike = 100, expiry = \"2025-06-30\")"
     ]
    }
   ],
   "source": [
    "option = (type=\"call\", strike=100, expiry=\"2025-06-30\")\n",
    "print(\"Here is you tuple: $option\")"
   ]
  },
  {
   "cell_type": "markdown",
   "metadata": {},
   "source": [
    "Access fields like this:"
   ]
  },
  {
   "cell_type": "code",
   "execution_count": 4,
   "metadata": {},
   "outputs": [
    {
     "name": "stdout",
     "output_type": "stream",
     "text": [
      "100"
     ]
    }
   ],
   "source": [
    "print(option.strike)"
   ]
  },
  {
   "cell_type": "markdown",
   "metadata": {},
   "source": [
    "Or access by index (starting at 1, not 0):"
   ]
  },
  {
   "cell_type": "code",
   "execution_count": 5,
   "metadata": {},
   "outputs": [
    {
     "name": "stdout",
     "output_type": "stream",
     "text": [
      "100"
     ]
    }
   ],
   "source": [
    "print(option[2])"
   ]
  },
  {
   "cell_type": "markdown",
   "metadata": {},
   "source": [
    "Tuples are immutable, we can't update it:"
   ]
  },
  {
   "cell_type": "code",
   "execution_count": 6,
   "metadata": {},
   "outputs": [
    {
     "ename": "LoadError",
     "evalue": "setfield!: immutable struct of type NamedTuple cannot be changed",
     "output_type": "error",
     "traceback": [
      "setfield!: immutable struct of type NamedTuple cannot be changed",
      "",
      "Stacktrace:",
      " [1] \u001b[0m\u001b[1msetproperty!\u001b[22m\u001b[0m\u001b[1m(\u001b[22m\u001b[90mx\u001b[39m::\u001b[0m@NamedTuple\u001b[90m{type::String, strike::Int64, expiry::String}\u001b[39m, \u001b[90mf\u001b[39m::\u001b[0mSymbol, \u001b[90mv\u001b[39m::\u001b[0mString\u001b[0m\u001b[1m)\u001b[22m",
      "\u001b[90m   @\u001b[39m \u001b[90mBase\u001b[39m \u001b[90m./\u001b[39m\u001b[90m\u001b[4mBase.jl:53\u001b[24m\u001b[39m",
      " [2] top-level scope",
      "\u001b[90m   @\u001b[39m \u001b[90m\u001b[4mIn[6]:1\u001b[24m\u001b[39m"
     ]
    }
   ],
   "source": [
    "option.type = \"put\""
   ]
  },
  {
   "cell_type": "markdown",
   "metadata": {},
   "source": [
    "## Dictionary\n",
    "When we have pairs of related data — like names and descriptions — a dictionary is a good way to store them. In Julia, we can create a dictionary using the Dict() function. It can be empty or filled with key-value pairs right from the start."
   ]
  },
  {
   "cell_type": "code",
   "execution_count": 22,
   "metadata": {},
   "outputs": [
    {
     "data": {
      "text/plain": [
       "Dict{String, String} with 2 entries:\n",
       "  \"key2\" => \"value2\"\n",
       "  \"key1\" => \"value1\""
      ]
     },
     "execution_count": 22,
     "metadata": {},
     "output_type": "execute_result"
    }
   ],
   "source": [
    "empty_dict = Dict()\n",
    "key_value = Dict(\"key1\" => \"value1\", \"key2\" => \"value2\")"
   ]
  },
  {
   "cell_type": "markdown",
   "metadata": {},
   "source": [
    "Let’s rename empty_dict to something more meaningful. For example, we can use strategies to store the names and descriptions of common option strategies."
   ]
  },
  {
   "cell_type": "code",
   "execution_count": 23,
   "metadata": {},
   "outputs": [
    {
     "data": {
      "text/plain": [
       "Dict{Any, Any}()"
      ]
     },
     "execution_count": 23,
     "metadata": {},
     "output_type": "execute_result"
    }
   ],
   "source": [
    "strategies = Dict()"
   ]
  },
  {
   "cell_type": "markdown",
   "metadata": {},
   "source": [
    "Now let’s add a few entries:"
   ]
  },
  {
   "cell_type": "code",
   "execution_count": null,
   "metadata": {},
   "outputs": [],
   "source": [
    "strategies[\"bull_call_spread\"] = \"Buy call at lower strike, sell call at higher strike\"\n",
    "strategies[\"straddle\"] = \"Buy call and put at the same strike\"\n",
    "strategies[\"iron_condor\"] = \"Sell out-of-the-money call and put, buy further OTM call and put for protection\""
   ]
  },
  {
   "cell_type": "markdown",
   "metadata": {},
   "source": [
    "We can print the whole dictionary:"
   ]
  },
  {
   "cell_type": "code",
   "execution_count": 25,
   "metadata": {},
   "outputs": [
    {
     "name": "stdout",
     "output_type": "stream",
     "text": [
      "Dict{Any, Any}(\"bull_call_spread\" => \"Buy call at lower strike, sell call at higher strike\", \"iron_condor\" => \"Sell out-of-the-money call and put, buy further OTM call and put for protection\", \"straddle\" => \"Buy call and put at the same strike\")"
     ]
    }
   ],
   "source": [
    "print(strategies)"
   ]
  },
  {
   "cell_type": "markdown",
   "metadata": {},
   "source": [
    "Or look up one strategy by name:"
   ]
  },
  {
   "cell_type": "code",
   "execution_count": 26,
   "metadata": {},
   "outputs": [
    {
     "name": "stdout",
     "output_type": "stream",
     "text": [
      "Buy call and put at the same strike"
     ]
    }
   ],
   "source": [
    "print(strategies[\"straddle\"])"
   ]
  },
  {
   "cell_type": "markdown",
   "metadata": {},
   "source": [
    "If you want to remove a key and its value from a dictionary, use the pop! function."
   ]
  },
  {
   "cell_type": "code",
   "execution_count": 27,
   "metadata": {},
   "outputs": [
    {
     "name": "stdout",
     "output_type": "stream",
     "text": [
      "Dict{Any, Any}(\"bull_call_spread\" => \"Buy call at lower strike, sell call at higher strike\", \"iron_condor\" => \"Sell out-of-the-money call and put, buy further OTM call and put for protection\")"
     ]
    }
   ],
   "source": [
    "pop!(strategies, \"straddle\")\n",
    "print(strategies)"
   ]
  },
  {
   "cell_type": "markdown",
   "metadata": {},
   "source": [
    "Unlike arrays or tuples, dictionaries have no guaranteed order. That means:\n",
    "\t•\tYou can’t access values by index like dict[1]\n",
    "\t•\tThe order of keys and values might change when you print or loop through them\n",
    "\n",
    "If we try to access values by index `julia` thinks you're trying to access a value associated with the key `1`:"
   ]
  },
  {
   "cell_type": "code",
   "execution_count": 28,
   "metadata": {},
   "outputs": [
    {
     "ename": "LoadError",
     "evalue": "KeyError: key 1 not found",
     "output_type": "error",
     "traceback": [
      "KeyError: key 1 not found",
      "",
      "Stacktrace:",
      " [1] \u001b[0m\u001b[1mgetindex\u001b[22m\u001b[0m\u001b[1m(\u001b[22m\u001b[90mh\u001b[39m::\u001b[0mDict\u001b[90m{Any, Any}\u001b[39m, \u001b[90mkey\u001b[39m::\u001b[0mInt64\u001b[0m\u001b[1m)\u001b[22m",
      "\u001b[90m   @\u001b[39m \u001b[90mBase\u001b[39m \u001b[90m./\u001b[39m\u001b[90m\u001b[4mdict.jl:477\u001b[24m\u001b[39m",
      " [2] top-level scope",
      "\u001b[90m   @\u001b[39m \u001b[90m\u001b[4mIn[28]:1\u001b[24m\u001b[39m"
     ]
    }
   ],
   "source": [
    "strategies[1]"
   ]
  }
 ],
 "metadata": {
  "kernelspec": {
   "display_name": "Julia 1.11.5",
   "language": "julia",
   "name": "julia-1.11"
  },
  "language_info": {
   "file_extension": ".jl",
   "mimetype": "application/julia",
   "name": "julia",
   "version": "1.11.5"
  }
 },
 "nbformat": 4,
 "nbformat_minor": 2
}