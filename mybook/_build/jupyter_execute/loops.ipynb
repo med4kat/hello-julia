{
 "cells": [
  {
   "cell_type": "markdown",
   "metadata": {},
   "source": [
    "# Loops\n",
    "## While loop "
   ]
  },
  {
   "cell_type": "code",
   "execution_count": 1,
   "metadata": {},
   "outputs": [
    {
     "name": "stdout",
     "output_type": "stream",
     "text": [
      "1\n"
     ]
    },
    {
     "name": "stdout",
     "output_type": "stream",
     "text": [
      "2\n",
      "3\n",
      "4\n",
      "5\n"
     ]
    }
   ],
   "source": [
    "n = 1\n",
    "while n <=5\n",
    "    println(n)\n",
    "    n += 1\n",
    "end    \n"
   ]
  },
  {
   "cell_type": "markdown",
   "metadata": {},
   "source": [
    "### Mini Monte Carlo Simulation with WHILE loop\n",
    "Monte Carlo methods are used to estimate the value of things when we can’t (or don’t want to) calculate an exact answer. In finance, this often means simulating option payoffs under random market conditions.\n",
    "\n",
    "Let’s try a **mini Monte Carlo simulation** to estimate the value of a European call option — using simple assumptions."
   ]
  },
  {
   "cell_type": "markdown",
   "metadata": {},
   "source": [
    "**Goal**\n",
    "\n",
    "Estimate the expected payoff of a call option with:\n",
    "* Strike price *K = 100*\n",
    "* Spot price is simulated as a **normal distribution** around 100\n",
    "* Payoff is: *max(S - K, 0)*\n",
    "\n",
    "We’ll keep adding samples until the estimate stops changing much."
   ]
  },
  {
   "cell_type": "code",
   "execution_count": 2,
   "metadata": {},
   "outputs": [
    {
     "name": "stdout",
     "output_type": "stream",
     "text": [
      "Estimated option value: 0.0 after 1 simulations\n"
     ]
    }
   ],
   "source": [
    "strike = 100\n",
    "estimated = 0.0\n",
    "samples = 0\n",
    "last_estimate = -1.0\n",
    "tolerance = 0.01\n",
    "\n",
    "while abs(estimated - last_estimate) > tolerance\n",
    "    last_estimate = estimated\n",
    "\n",
    "    # Simulate spot price (simplified: normally distributed)\n",
    "    spot = randn() * 10 + 100\n",
    "\n",
    "    # Payoff of a European call\n",
    "    payoff = max(spot - strike, 0)\n",
    "\n",
    "    # Update average payoff\n",
    "    estimated = (estimated * samples + payoff) / (samples + 1)\n",
    "    samples += 1\n",
    "end\n",
    "\n",
    "println(\"Estimated option value: $estimated after $samples simulations\")"
   ]
  },
  {
   "cell_type": "markdown",
   "metadata": {},
   "source": [
    "This is a simplified example — in reality, you’d model stock prices using **log-normal distributions** (e.g. geometric Brownian motion) and discount payoffs to present value. But the idea of **convergence using while** remains the same."
   ]
  },
  {
   "cell_type": "markdown",
   "metadata": {},
   "source": [
    "## For loop\n"
   ]
  },
  {
   "cell_type": "code",
   "execution_count": 3,
   "metadata": {},
   "outputs": [
    {
     "name": "stdout",
     "output_type": "stream",
     "text": [
      "1\n",
      "2\n",
      "3\n",
      "4\n",
      "5\n"
     ]
    }
   ],
   "source": [
    "for n in 1:5\n",
    "    println(n)\n",
    "end"
   ]
  },
  {
   "cell_type": "markdown",
   "metadata": {},
   "source": [
    "### Mini Monte Carlo Simulation with FOR loop\n",
    "Let’s take the same simplified model as before, but this time we’ll use a for loop.\n",
    "\n",
    "We use a for loop when we know how many simulations we want to run. Unlike the while loop — which runs until the result stops changing — the for loop runs a fixed number of times."
   ]
  },
  {
   "cell_type": "code",
   "execution_count": 4,
   "metadata": {},
   "outputs": [
    {
     "name": "stdout",
     "output_type": "stream",
     "text": [
      "Estimated option value: 3.9944768006024343 from 10000 simulations\n"
     ]
    }
   ],
   "source": [
    "strike = 100\n",
    "total_payoff = 0.0\n",
    "n_simulations = 10_000\n",
    "\n",
    "for i in 1:n_simulations\n",
    "    spot = randn() * 10 + 100\n",
    "    payoff = max(spot - strike, 0)\n",
    "    total_payoff += payoff\n",
    "    \n",
    "end\n",
    "\n",
    "estimated = total_payoff / n_simulations\n",
    "println(\"Estimated option value: $estimated from $n_simulations simulations\")"
   ]
  },
  {
   "cell_type": "code",
   "execution_count": null,
   "metadata": {},
   "outputs": [],
   "source": []
  }
 ],
 "metadata": {
  "kernelspec": {
   "display_name": "Julia 1.11.5",
   "language": "julia",
   "name": "julia-1.11"
  },
  "language_info": {
   "file_extension": ".jl",
   "mimetype": "application/julia",
   "name": "julia",
   "version": "1.11.5"
  }
 },
 "nbformat": 4,
 "nbformat_minor": 2
}