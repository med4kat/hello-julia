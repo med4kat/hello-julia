{
 "cells": [
  {
   "cell_type": "markdown",
   "metadata": {},
   "source": [
    "# Functions\n",
    "In Julia, you define a function using the keywords `function` and `end`.\n",
    "Functions help you group code into reusable blocks."
   ]
  },
  {
   "cell_type": "markdown",
   "metadata": {},
   "source": [
    "## Multi-line function definition\n",
    "This function takes two arguments: ticker and price, and prints a message."
   ]
  },
  {
   "cell_type": "code",
   "execution_count": 2,
   "metadata": {},
   "outputs": [
    {
     "data": {
      "text/plain": [
       "open_price (generic function with 1 method)"
      ]
     },
     "execution_count": 2,
     "metadata": {},
     "output_type": "execute_result"
    }
   ],
   "source": [
    "function open_price(ticker, price)\n",
    "    println(\"Today's open for $ticker: $price\")\n",
    "end"
   ]
  },
  {
   "cell_type": "markdown",
   "metadata": {},
   "source": [
    "Calling the function"
   ]
  },
  {
   "cell_type": "code",
   "execution_count": 3,
   "metadata": {},
   "outputs": [
    {
     "name": "stdout",
     "output_type": "stream",
     "text": [
      "Today's open for AMD: 127\n"
     ]
    }
   ],
   "source": [
    "open_price(\"AMD\", 127)"
   ]
  },
  {
   "cell_type": "markdown",
   "metadata": {},
   "source": [
    "## Single-line function (short form)\n",
    "You can also write simple functions in one line:"
   ]
  },
  {
   "cell_type": "code",
   "execution_count": 5,
   "metadata": {},
   "outputs": [
    {
     "name": "stdout",
     "output_type": "stream",
     "text": [
      "Today's open for PLTR: 142\n"
     ]
    }
   ],
   "source": [
    "open_price_ln(ticker, price) = println(\"Today's open for $ticker: $price\")\n",
    "open_price_ln(\"PLTR\", 142)"
   ]
  },
  {
   "cell_type": "markdown",
   "metadata": {},
   "source": [
    "## Mutating vs. non-mutating functions\n",
    "In Julia, functions can either **leave data unchanged** or **change** it in place (mutate it).\n",
    "To help you spot the difference, Julia uses a simple convention: mutating functions end with `!`\n",
    "This makes your code easier to read and safer to use — you’ll always know when something is being changed."
   ]
  },
  {
   "cell_type": "markdown",
   "metadata": {},
   "source": [
    "### Example: sort vs sort!"
   ]
  },
  {
   "cell_type": "code",
   "execution_count": 6,
   "metadata": {},
   "outputs": [
    {
     "name": "stdout",
     "output_type": "stream",
     "text": [
      "[3, 1, 2]\n",
      "[1, 2, 3]\n"
     ]
    }
   ],
   "source": [
    "nums = [3, 1, 2]\n",
    "\n",
    "sorted_nums = sort(nums)\n",
    "println(nums)         # [3, 1, 2]\n",
    "println(sorted_nums)  # [1, 2, 3]"
   ]
  },
  {
   "cell_type": "markdown",
   "metadata": {},
   "source": [
    "`sort` returns a new, sorted array.\n",
    "The original nums is unchanged."
   ]
  },
  {
   "cell_type": "markdown",
   "metadata": {},
   "source": [
    "Now try sort!:"
   ]
  },
  {
   "cell_type": "code",
   "execution_count": null,
   "metadata": {},
   "outputs": [],
   "source": [
    "sort!(nums)\n",
    "println(nums)         # [1, 2, 3]"
   ]
  },
  {
   "cell_type": "markdown",
   "metadata": {},
   "source": [
    "`sort!` changes the original array directly — it **mutates** it."
   ]
  },
  {
   "cell_type": "markdown",
   "metadata": {},
   "source": [
    "# High-order function `broadcast`\n",
    "One of the features I find most elegant in Julia is **broadcasting** — the ability to apply a function to each element of an array or matrix using just a `.`.\n",
    "It makes code look clean, expressive, and almost mathematical."
   ]
  },
  {
   "cell_type": "markdown",
   "metadata": {},
   "source": [
    "## Matrix Example\n",
    "Let’s start by creating a simple 3×3 matrix:"
   ]
  },
  {
   "cell_type": "code",
   "execution_count": 7,
   "metadata": {},
   "outputs": [
    {
     "data": {
      "text/plain": [
       "3×3 Matrix{Int64}:\n",
       " 2  3  4\n",
       " 4  5  6\n",
       " 6  7  8"
      ]
     },
     "execution_count": 7,
     "metadata": {},
     "output_type": "execute_result"
    }
   ],
   "source": [
    "A = [i + 2*j for j in 1:3, i in 0:2]"
   ]
  },
  {
   "cell_type": "markdown",
   "metadata": {},
   "source": [
    "Now let’s apply a function — like squaring each element — using broadcasting:"
   ]
  },
  {
   "cell_type": "code",
   "execution_count": 8,
   "metadata": {},
   "outputs": [
    {
     "data": {
      "text/plain": [
       "3×3 Matrix{Int64}:\n",
       "  4   9  16\n",
       " 16  25  36\n",
       " 36  49  64"
      ]
     },
     "execution_count": 8,
     "metadata": {},
     "output_type": "execute_result"
    }
   ],
   "source": [
    "A_sqred = A .^2"
   ]
  },
  {
   "cell_type": "markdown",
   "metadata": {},
   "source": [
    "Here, the dot before ^ tells Julia:\n",
    "**“Apply ^2 to every element of A.”**\n",
    "No loops — just math-like elegance."
   ]
  },
  {
   "cell_type": "code",
   "execution_count": null,
   "metadata": {},
   "outputs": [],
   "source": []
  }
 ],
 "metadata": {
  "kernelspec": {
   "display_name": "Julia 1.11.5",
   "language": "julia",
   "name": "julia-1.11"
  },
  "language_info": {
   "file_extension": ".jl",
   "mimetype": "application/julia",
   "name": "julia",
   "version": "1.11.5"
  }
 },
 "nbformat": 4,
 "nbformat_minor": 2
}
